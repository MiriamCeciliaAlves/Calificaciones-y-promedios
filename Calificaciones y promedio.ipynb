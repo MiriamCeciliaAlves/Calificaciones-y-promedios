{
 "cells": [
  {
   "cell_type": "markdown",
   "id": "61865a0c",
   "metadata": {},
   "source": [
    "🔹 Desafío 1: Calificaciones aprobadas\n",
    "Contar cuántos estudiantes aprobaron y cuántos no, considerando 7 como nota mínima de aprobación. \n",
    "Usándo condicionales para resolver el problema.\n",
    "\n",
    "Utilice una función contar_aprobados_desaprobados desde donde utiliza una lista de calificaciones como entrada. \n",
    "Dentro de la función utilice 2 variables como lo explicaba  en el cuaderno \"Estructura y control\" aprobados y desaprobados en 0. Como también defini la nota_minima de aprobación como 7.\n",
    "\n",
    "Utilice un bucle for, donde recorre cada calificación dada en la lista. Dentro de este utilice una estructura condicional if-else donde verifica que la calificación es mayor o igual a la nota minima, si la condición es verdadera aumenta el conteo de aprobados, si es falsa aumenta el conteo de deaprobados.\n",
    "\n",
    "Luego se imprime los resultados.\n",
    "\n",
    "Encontre muchas dificultades, siendo todo ensayo y error por la utilización del mismo programa. \n"
   ]
  },
  {
   "cell_type": "code",
   "execution_count": null,
   "id": "8ee494a9",
   "metadata": {},
   "outputs": [],
   "source": [
    "def contar_aprobados_desaprobados(calificaciones):\n",
    "  \"\"\"\n",
    "  Cuenta la cantidad de estudiantes aprobados y desaprobados en una lista de calificaciones.\n",
    "\n",
    "  Args:\n",
    "    calificaciones: Una lista de números representando las calificaciones de los estudiantes.\n",
    "\n",
    "  Returns:\n",
    "    Un diccionario con dos claves: 'aprobados' y 'desaprobados',\n",
    "    cuyos valores son la cantidad de estudiantes en cada categoría.\n",
    "  \"\"\"\n",
    "  aprobados = 0\n",
    "  desaprobados = 0\n",
    "  nota_minima = 7\n",
    "\n",
    "  for calificacion in calificaciones:\n",
    "    if calificacion >= nota_minima:\n",
    "      aprobados += 1\n",
    "    else:\n",
    "      desaprobados += 1\n",
    "\n",
    "  resultados = {\n",
    "        'aprobados': aprobados,\n",
    "      'desaprobados': desaprobados\n",
    "  }\n",
    "  return resultados\n",
    "\n",
    "# Ejemplo de uso:\n",
    "lista_de_calificaciones = [8, 12, 5, 5, 8, 2, 8, 9, 12, 11]\n",
    "conteo = contar_aprobados_desaprobados(lista_de_calificaciones)\n",
    "\n",
    "print(f\"Cantidad de estudiantes aprobados: {conteo['aprobados']}\")\n",
    "print(f\"Cantidad de estudiantes desaprobados: {conteo['desaprobados']}\")\n"
   ]
  },
  {
   "cell_type": "markdown",
   "id": "07bc5acc",
   "metadata": {},
   "source": [
    "Desafío 2: Mejorar del cálculo\n",
    "Modificar el código del cálculo de promedio para que permita ingresar todas las calificaciones en una sola línea, separadas por comas, y luego calcular el promedio automáticamente.\n",
    "\n",
    "En este nuevo desafío, utilice la función calcular_promedio_desde_string() valor de cadena. \n",
    "Donde al usuario se le solicita que ingrese todas las calificaciones en una sola linea, separadas por comas. \n",
    "\n",
    "El método split(',') subdivide la cadena representando la calificación en formato de texto. \n",
    "Dentro del bucle utilice la calificacion_str.strip para eliminar los espacios en blanco. \n",
    "\n",
    "Para calcular el promedio después de tomar todas las entradas, verifica si la lista_calificaciones para que sea válida, calcula la suma del total de calificaciones por la cantidad de calificaciones arrojando asi el promedio. "
   ]
  },
  {
   "cell_type": "code",
   "execution_count": null,
   "id": "66e6dec4",
   "metadata": {},
   "outputs": [],
   "source": [
    "#DESAFIO 2\n",
    "\n",
    "def calcular_promedio_desde_string():\n",
    "  \"\"\"\n",
    "  Permite al usuario ingresar calificaciones separadas por comas en una línea,\n",
    "  convierte las calificaciones a números y calcula el promedio.\n",
    "  \"\"\"\n",
    "  entrada_calificaciones = input(\"Ingrese las calificaciones separadas por comas: \")\n",
    "  lista_calificaciones_str = entrada_calificaciones.split(',')\n",
    "  lista_calificaciones = []\n",
    "\n",
    "  for calificacion_str in lista_calificaciones_str:\n",
    "    try:\n",
    "      calificacion = float(calificacion_str.strip())  # Elimina espacios en blanco y convierte a float\n",
    "      lista_calificaciones.append(calificacion)\n",
    "    except ValueError:\n",
    "      print(f\"Advertencia: '{calificacion_str.strip()}' no es un número válido y será ignorado.\")\n",
    "\n",
    "  if lista_calificaciones:\n",
    "    promedio = sum(lista_calificaciones) / len(lista_calificaciones)\n",
    "    print(f\"El promedio de las calificaciones es: {promedio}\")\n",
    "  else:\n",
    "    print(\"No se ingresaron calificaciones válidas.\")\n",
    "\n",
    "# Llamada a la función para ejecutar el cálculo\n",
    "calcular_promedio_desde_string()"
   ]
  }
 ],
 "metadata": {
  "language_info": {
   "name": "python"
  }
 },
 "nbformat": 4,
 "nbformat_minor": 5
}
